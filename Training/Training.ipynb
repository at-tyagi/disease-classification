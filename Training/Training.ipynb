{
  "cells": [
    {
      "cell_type": "code",
      "execution_count": null,
      "id": "8b5dbbad-957f-45a4-bd74-6eda34ac8b2b",
      "metadata": {
        "id": "8b5dbbad-957f-45a4-bd74-6eda34ac8b2b"
      },
      "outputs": [],
      "source": [
        "import tensorflow as tf\n",
        "from tensorflow.keras import models, layers\n",
        "import matplotlib.pyplot as plt\n",
        "import numpy as np"
      ]
    },
    {
      "cell_type": "code",
      "source": [
        "!pwd"
      ],
      "metadata": {
        "id": "KWl3KJsyXB2K"
      },
      "id": "KWl3KJsyXB2K",
      "execution_count": null,
      "outputs": []
    },
    {
      "cell_type": "code",
      "source": [
        "!git clone https://github.com/at-tyagi/disease-classification"
      ],
      "metadata": {
        "id": "snkzzmMGWxyW"
      },
      "id": "snkzzmMGWxyW",
      "execution_count": null,
      "outputs": []
    },
    {
      "cell_type": "code",
      "execution_count": null,
      "id": "d2518a16-62d9-41d5-ad0e-2237a858c38b",
      "metadata": {
        "id": "d2518a16-62d9-41d5-ad0e-2237a858c38b"
      },
      "outputs": [],
      "source": [
        "IMAGE_SIZE=256 #pixels\n",
        "BATCH_SIZE=32\n",
        "CHANNELS=3"
      ]
    },
    {
      "cell_type": "code",
      "execution_count": null,
      "id": "4e29beaa-8e45-42df-8202-1679d224022b",
      "metadata": {
        "id": "4e29beaa-8e45-42df-8202-1679d224022b"
      },
      "outputs": [],
      "source": [
        "dataset = tf.keras.preprocessing.image_dataset_from_directory(\n",
        "    \"PlantVillage\",  # give root directory name\n",
        "    shuffle=True,\n",
        "    image_size=(IMAGE_SIZE,IMAGE_SIZE),\n",
        "    batch_size=BATCH_SIZE\n",
        ")\n",
        "\n"
      ]
    },
    {
      "cell_type": "code",
      "source": [],
      "metadata": {
        "id": "E4YFL2zQXAVC"
      },
      "id": "E4YFL2zQXAVC",
      "execution_count": null,
      "outputs": []
    },
    {
      "cell_type": "code",
      "execution_count": null,
      "id": "b943e5be-1871-4702-8f0c-c264ca08f669",
      "metadata": {
        "id": "b943e5be-1871-4702-8f0c-c264ca08f669"
      },
      "outputs": [],
      "source": [
        "class_names=dataset.class_names\n",
        "print(class_names, len(dataset))\n",
        "# 68 because batch of 32 for total 68 in no.\n",
        "# use len() in place of shape\n",
        "print(dataset)"
      ]
    },
    {
      "cell_type": "code",
      "execution_count": null,
      "id": "64cd8785-4b8c-4f73-8b23-ccaad80dc83e",
      "metadata": {
        "id": "64cd8785-4b8c-4f73-8b23-ccaad80dc83e"
      },
      "outputs": [],
      "source": [
        "for es, ts in dataset.take(1):\n",
        "    print(es.shape,ts.shape)\n",
        "    print(ts.numpy()) # ts in tensor initially\n",
        "    print(es[0])"
      ]
    },
    {
      "cell_type": "code",
      "execution_count": null,
      "id": "ea8924f5-56e8-429e-b7ed-5dd3282c4eaa",
      "metadata": {
        "id": "ea8924f5-56e8-429e-b7ed-5dd3282c4eaa"
      },
      "outputs": [],
      "source": [
        "## 1,2,3 are classes\n",
        "## es[0] is one image data 256x256x3\n",
        "plt.figure(figsize=(10,10))\n",
        "for img,label in dataset.take(1): ## img mapped to 32 img, label in one step only no loop again and again\n",
        "    for i in range(10):# select ith from that 32 label\n",
        "        ax=plt.subplot(3,4,i+1) ## i tell position 3,4 rows and columns\n",
        "        ## plt.imshow(es[1].numpy()) give raw unbalancedcolours \n",
        "        plt.imshow(img[i].numpy().astype(\"uint8\"))\n",
        "        plt.title(class_names[label[i]])\n",
        "        #print(img[0][0].numpy().astype(\"uint8\"))   ### 256x3 shape\n",
        "        plt.axis(\"off\")\n",
        "    print(\"only one print hence outer loop is one step process\")"
      ]
    },
    {
      "cell_type": "code",
      "execution_count": null,
      "id": "ea66f823-87b2-4cd2-b92d-a852af9871d9",
      "metadata": {
        "id": "ea66f823-87b2-4cd2-b92d-a852af9871d9"
      },
      "outputs": [],
      "source": [
        "## 80% , 10% , 10% splitting.........................................................\n",
        "dataset=dataset.shuffle(1000,seed=12)\n",
        "train_ds=dataset.take(int(len(dataset)*0.8))   ## [0:54]\n",
        "test=dataset.skip(int(len(dataset)*0.8))    ## [54:end]\n",
        "cv_ds=test.take(int(len(test)*0.5))    ## [0:mid]\n",
        "test_ds=test.skip(int(len(test)*0.5))    ## [mid:end]\n",
        "print(len(train_ds),len(test),len(cv_ds),len(test_ds))"
      ]
    },
    {
      "cell_type": "code",
      "execution_count": null,
      "id": "f497afd4-77c8-48fd-87d3-ccbc7e613c0a",
      "metadata": {
        "id": "f497afd4-77c8-48fd-87d3-ccbc7e613c0a"
      },
      "outputs": [],
      "source": [
        "# ----------train_ds.cache()------------ ### read data from disk and kepp in memory so make process fast for next iteration [[[don't read same image again and again]]]\n",
        "train_ds=train_ds.cache().shuffle(1000).prefetch(buffer_size=tf.data.AUTOTUNE)   ## prefetch load next batch if cpu/gpu busy in training in old batch\n",
        "cv_ds=cv_ds.cache().shuffle(1000).prefetch(buffer_size=tf.data.AUTOTUNE)   ## prefetch load next batch if cpu/gpu busy in training in old batch\n",
        "test_ds=test_ds.cache().shuffle(1000).prefetch(buffer_size=tf.data.AUTOTUNE)   ## prefetch load next batch if cpu/gpu busy in training in old batch"
      ]
    },
    {
      "cell_type": "code",
      "execution_count": null,
      "id": "6e76ed1b-94c5-454b-87bf-623fea3a9f4c",
      "metadata": {
        "id": "6e76ed1b-94c5-454b-87bf-623fea3a9f4c"
      },
      "outputs": [],
      "source": [
        "### now training will run fast\n",
        "resize_and_scale = tf.keras.Sequential([\n",
        "    layers.experimental.preprocessing.Resizing(IMAGE_SIZE,IMAGE_SIZE),\n",
        "    layers.experimental.preprocessing.Rescaling(1.0/255)\n",
        "])"
      ]
    },
    {
      "cell_type": "code",
      "execution_count": null,
      "id": "fe918b98-bfaa-405f-b94c-aff2ff2772c3",
      "metadata": {
        "id": "fe918b98-bfaa-405f-b94c-aff2ff2772c3"
      },
      "outputs": [],
      "source": [
        "data_augmentation=tf.keras.Sequential([\n",
        "    layers.experimental.preprocessing.RandomFlip(\"horizontal_and_vertical\"),\n",
        "    layers.experimental.preprocessing.RandomRotation(0.2)\n",
        "])"
      ]
    },
    {
      "cell_type": "code",
      "execution_count": null,
      "id": "2916ee64-5e6e-465a-bccb-3a7b278025f2",
      "metadata": {
        "id": "2916ee64-5e6e-465a-bccb-3a7b278025f2"
      },
      "outputs": [],
      "source": [
        "## both made above are layers we will use furthur\n",
        "input_shape=(BATCH_SIZE,IMAGE_SIZE, IMAGE_SIZE,CHANNELS)\n",
        "n_classes=3\n",
        "model=models.Sequential([\n",
        "    resize_and_scale,\n",
        "    data_augmentation,\n",
        "    layers.Conv2D(32,(3,3),activation='relu',input_shape=input_shape),\n",
        "    layers.MaxPooling2D((2,2)),\n",
        "    layers.Conv2D(64,kernel_size=(3,3), activation='relu'),    \n",
        "    layers.MaxPooling2D((2,2)),\n",
        "    layers.Conv2D(64,kernel_size=(3,3), activation='relu'),    \n",
        "    layers.MaxPooling2D((2,2)),\n",
        "    layers.Conv2D(64,kernel_size=(3,3), activation='relu'),    \n",
        "    layers.MaxPooling2D((2,2)),\n",
        "    layers.Conv2D(64,kernel_size=(3,3), activation='relu'),    \n",
        "    layers.MaxPooling2D((2,2)),\n",
        "    layers.Conv2D(64,kernel_size=(3,3), activation='relu'),\n",
        "    layers.MaxPooling2D((2,2)),\n",
        "    layers.Flatten(),\n",
        "    layers.Dense(64,activation='relu'),\n",
        "    layers.Dense(n_classes,activation='softmax')\n",
        "])"
      ]
    },
    {
      "cell_type": "code",
      "execution_count": null,
      "id": "1b875164-e1b9-407f-a4d0-9b1cb8e79536",
      "metadata": {
        "id": "1b875164-e1b9-407f-a4d0-9b1cb8e79536"
      },
      "outputs": [],
      "source": [
        "model.build(input_shape=input_shape)\n",
        "model.summary()"
      ]
    },
    {
      "cell_type": "code",
      "execution_count": null,
      "id": "da822ce8-e12f-41a3-89d2-d9f795d82e3e",
      "metadata": {
        "id": "da822ce8-e12f-41a3-89d2-d9f795d82e3e"
      },
      "outputs": [],
      "source": [
        "model.compile(\n",
        "    optimizer='adam',\n",
        "    loss=tf.keras.losses.SparseCategoricalCrossentropy(from_logits=False),\n",
        "    metrics=['accuracy']\n",
        ")"
      ]
    },
    {
      "cell_type": "code",
      "execution_count": null,
      "id": "bc297c66-43c9-453f-a486-1f089eb9c219",
      "metadata": {
        "id": "bc297c66-43c9-453f-a486-1f089eb9c219"
      },
      "outputs": [],
      "source": [
        "history=model.fit(\n",
        "    train_ds,\n",
        "    epochs=10,\n",
        "    batch_size=BATCH_SIZE,\n",
        "    verbose=1,\n",
        "    validation_data=cv_ds\n",
        ")\n",
        "    "
      ]
    },
    {
      "cell_type": "code",
      "source": [
        "scores=model.evaluate(test_ds)"
      ],
      "metadata": {
        "id": "gxCLpIHM-gsl"
      },
      "id": "gxCLpIHM-gsl",
      "execution_count": null,
      "outputs": []
    },
    {
      "cell_type": "code",
      "source": [
        "history"
      ],
      "metadata": {
        "id": "MHl-obX2-rS8"
      },
      "id": "MHl-obX2-rS8",
      "execution_count": null,
      "outputs": []
    },
    {
      "cell_type": "code",
      "source": [
        "history.params"
      ],
      "metadata": {
        "id": "8DRYeN8c-zGY"
      },
      "id": "8DRYeN8c-zGY",
      "execution_count": null,
      "outputs": []
    },
    {
      "cell_type": "code",
      "source": [
        "history.history.keys()"
      ],
      "metadata": {
        "id": "wUn9gy4Z_CTv"
      },
      "id": "wUn9gy4Z_CTv",
      "execution_count": null,
      "outputs": []
    },
    {
      "cell_type": "code",
      "source": [
        " history.history['accuracy']"
      ],
      "metadata": {
        "id": "yIR7qaKl_J4a"
      },
      "id": "yIR7qaKl_J4a",
      "execution_count": null,
      "outputs": []
    },
    {
      "cell_type": "code",
      "source": [
        "plt.plot(range(10),history.history['accuracy'],label='accuracy')\n",
        "plt.legend()\n",
        "plt.show()\n",
        "plt.plot(range(10),history.history['loss'],label='loss')\n",
        "plt.legend()\n",
        "plt.show()\n",
        "plt.plot(range(10),history.history['val_accuracy'],label='val accuracy')\n",
        "plt.legend()\n",
        "plt.show()\n",
        "plt.plot(range(10),history.history['val_loss'],label='val loss')\n",
        "plt.legend()\n",
        "plt.show()\n"
      ],
      "metadata": {
        "id": "BYVVXuEG_Q8M"
      },
      "id": "BYVVXuEG_Q8M",
      "execution_count": null,
      "outputs": []
    },
    {
      "cell_type": "code",
      "source": [
        "# ###########################                  image_batch , label batch\n",
        "plt.figure(figsize=(15,15))\n",
        "for ib , lb in test_ds.take(1):\n",
        "    for i in range(10):\n",
        "      ax=plt.subplot(5,2,i+1)\n",
        "      plt.imshow(ib[i].numpy().astype('uint8'))\n",
        "      plt.axis(\"off\")\n",
        "      a=class_names[lb[i]]\n",
        "      b=np.max(model.predict(ib[i:i+1]))  # a 1x3 array with probablities\n",
        "      d=np.round(b*100, decimals = 2)\n",
        "      c=class_names[np.argmax(model.predict(ib[i:i+1]))]\n",
        "      plt.title(f\"actual: {a},\\n Predicted: {c} \\n Confidence: {d}\")\n"
      ],
      "metadata": {
        "id": "zlJHCchX_lRK"
      },
      "id": "zlJHCchX_lRK",
      "execution_count": null,
      "outputs": []
    },
    {
      "cell_type": "code",
      "source": [
        "model_version=1\n",
        "# model.save('path') method to save keras model\n",
        "#using python formatted string\n",
        "model.save(f\"./models/{model_version}\")"
      ],
      "metadata": {
        "id": "Npfj2Np3BJfF"
      },
      "id": "Npfj2Np3BJfF",
      "execution_count": null,
      "outputs": []
    },
    {
      "cell_type": "code",
      "source": [
        "## make change in model and save new version\n",
        "# automatic update version\n",
        "import os\n",
        "lst=os.listdir('./models')  ####### string \n",
        "new_version=max([int(i) for i in lst])+1\n",
        "print(new_version)"
      ],
      "metadata": {
        "id": "obqfmLVWj8JS"
      },
      "id": "obqfmLVWj8JS",
      "execution_count": null,
      "outputs": []
    },
    {
      "cell_type": "code",
      "source": [],
      "metadata": {
        "id": "kxg1Ez9HlAPi"
      },
      "id": "kxg1Ez9HlAPi",
      "execution_count": null,
      "outputs": []
    }
  ],
  "metadata": {
    "kernelspec": {
      "display_name": "Python 3 (ipykernel)",
      "language": "python",
      "name": "python3"
    },
    "language_info": {
      "codemirror_mode": {
        "name": "ipython",
        "version": 3
      },
      "file_extension": ".py",
      "mimetype": "text/x-python",
      "name": "python",
      "nbconvert_exporter": "python",
      "pygments_lexer": "ipython3",
      "version": "3.9.16"
    },
    "colab": {
      "provenance": [],
      "private_outputs": true
    },
    "accelerator": "GPU",
    "gpuClass": "standard"
  },
  "nbformat": 4,
  "nbformat_minor": 5
}